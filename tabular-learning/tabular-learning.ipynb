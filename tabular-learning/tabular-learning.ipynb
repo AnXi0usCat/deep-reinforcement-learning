{
 "cells": [
  {
   "cell_type": "code",
   "execution_count": 1,
   "metadata": {},
   "outputs": [],
   "source": [
    "import gym\n",
    "import collections"
   ]
  },
  {
   "cell_type": "code",
   "execution_count": 2,
   "metadata": {},
   "outputs": [],
   "source": [
    "ENV_NAME = \"FrozenLake-v0\"\n",
    "GAMMA = 0.9\n",
    "TEST_EPISODES = 20"
   ]
  },
  {
   "cell_type": "code",
   "execution_count": null,
   "metadata": {},
   "outputs": [],
   "source": [
    "class Agent:\n",
    "    \n",
    "    def __init__(self, env_name):\n",
    "        self.env = gym.make(env_name)\n",
    "        self.state = self.env.reset()\n",
    "        self.rewards = collections.defaultdict(float)\n",
    "        self.transits = collections.defaultdict(collections.Counter)\n",
    "        self.values = collections.defaultdict(float)\n",
    "\n",
    "    def play_n_random_steps(self, count):\n",
    "        for _ in range(count):\n",
    "            action = self.env.action_space.sample()\n",
    "            next_state, reward, is_done, _ = self.env.step(action)\n",
    "            self.rewards[(self.state, action, next_state)] = reward\n",
    "            self.transits[(self.state, action)][next_state] += 1 \n",
    "            self.state = self.env.reset() if is_done else next_state\n",
    "    \n",
    "    def calculate_action_value(self, state, action):\n",
    "        target_state_counts = self.transits[(state, action)]\n",
    "        total_count = sum(target_state_counts.values())\n",
    "        action_value = 0.0\n",
    "        for target_state, target_count in target_state_counts.items():\n",
    "            reward = self.rewards[(state, action, target_state)]\n",
    "            action_value += (target_count / total_count) * (reward + GAMMA * self.values[target_state])\n",
    "        return action_value\n",
    "\n",
    "    def value_iteration(self):\n",
    "        for state in range(self.env.observation_space.n):\n",
    "            values = [self.calculate_action_value(state, action) \n",
    "                      for action in range(self.env.action_space.n)]\n",
    "            self.values[state] = max(values)\n",
    "\n",
    "    def select_action(self, state):\n",
    "        best_action, best_value = None, None\n",
    "        for action in range(self.env.action_space.n):\n",
    "            action_value = self.calculate_action_value(state, action)\n",
    "            if best_value is None or best_value < action_value:\n",
    "                best_value = action_value\n",
    "                best_action = action\n",
    "        return best_action\n",
    "\n",
    "    def play_episode(self, env):\n",
    "        total_reward = 0.0\n",
    "        state = env.reset()\n",
    "\n",
    "        while True:\n",
    "            action = self.select_action(state)\n",
    "            next_state, reward, is_done, _ = env.step(action)\n",
    "            self.rewards[(state, action, next_state)] = reward\n",
    "            self.transits[(state, action)][next_state] += 1 \n",
    "            total_reward += reward\n",
    "            if is_done:\n",
    "                break\n",
    "            state = next_state\n",
    "        return total_reward"
   ]
  },
  {
   "cell_type": "code",
   "execution_count": null,
   "metadata": {},
   "outputs": [],
   "source": []
  }
 ],
 "metadata": {
  "kernelspec": {
   "display_name": "Python 3",
   "language": "python",
   "name": "python3"
  },
  "language_info": {
   "codemirror_mode": {
    "name": "ipython",
    "version": 3
   },
   "file_extension": ".py",
   "mimetype": "text/x-python",
   "name": "python",
   "nbconvert_exporter": "python",
   "pygments_lexer": "ipython3",
   "version": "3.8.3"
  }
 },
 "nbformat": 4,
 "nbformat_minor": 4
}
